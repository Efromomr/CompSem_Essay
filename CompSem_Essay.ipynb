{
  "nbformat": 4,
  "nbformat_minor": 0,
  "metadata": {
    "colab": {
      "provenance": []
    },
    "kernelspec": {
      "name": "python3",
      "display_name": "Python 3"
    },
    "language_info": {
      "name": "python"
    }
  },
  "cells": [
    {
      "cell_type": "code",
      "source": [
        "!unzip /content/anli_v1.0.zip"
      ],
      "metadata": {
        "id": "IhcMBZufUika",
        "colab": {
          "base_uri": "https://localhost:8080/"
        },
        "outputId": "3cb593cc-e510-4c3d-9269-bce8f6b29ed1"
      },
      "execution_count": 1,
      "outputs": [
        {
          "output_type": "stream",
          "name": "stdout",
          "text": [
            "Archive:  /content/anli_v1.0.zip\n",
            "   creating: anli_v1.0/\n",
            "  inflating: anli_v1.0/README.txt    \n",
            "   creating: anli_v1.0/R3/\n",
            "  inflating: anli_v1.0/R3/dev.jsonl  \n",
            "  inflating: anli_v1.0/R3/train.jsonl  \n",
            "  inflating: anli_v1.0/R3/test.jsonl  \n",
            "   creating: anli_v1.0/R2/\n",
            "  inflating: anli_v1.0/R2/dev.jsonl  \n",
            "  inflating: anli_v1.0/R2/train.jsonl  \n",
            "  inflating: anli_v1.0/R2/test.jsonl  \n",
            "   creating: anli_v1.0/R1/\n",
            "  inflating: anli_v1.0/R1/dev.jsonl  \n",
            "  inflating: anli_v1.0/R1/train.jsonl  \n",
            "  inflating: anli_v1.0/R1/test.jsonl  \n"
          ]
        }
      ]
    },
    {
      "cell_type": "code",
      "source": [
        "!pip install -q -U google-generativeai"
      ],
      "metadata": {
        "id": "qMtKkwHkU_me"
      },
      "execution_count": null,
      "outputs": []
    },
    {
      "cell_type": "code",
      "source": [
        "import pandas as pd\n",
        "import numpy as np\n",
        "import json\n",
        "\n",
        "from tqdm import tqdm\n",
        "\n",
        "import pathlib\n",
        "import textwrap\n",
        "\n",
        "import google.generativeai as genai\n",
        "\n",
        "from IPython.display import display\n",
        "from IPython.display import Markdown\n",
        "\n",
        "\n",
        "def to_markdown(text):\n",
        "  text = text.replace('•', '  *')\n",
        "  return Markdown(textwrap.indent(text, '> ', predicate=lambda _: True))\n",
        "\n",
        "from google.colab import userdata\n",
        "\n",
        "GOOGLE_API_KEY=userdata.get('GOOGLE_API_KEY')\n",
        "\n",
        "genai.configure(api_key=GOOGLE_API_KEY)\n",
        "\n",
        "from sklearn.metrics import accuracy_score"
      ],
      "metadata": {
        "id": "U8Uf9B08Uop0"
      },
      "execution_count": 2,
      "outputs": []
    },
    {
      "cell_type": "code",
      "source": [
        "def pack_to_df(ds_path):\n",
        "  lines = []\n",
        "  with open(ds_path) as f:\n",
        "    lines = f.read().splitlines()\n",
        "\n",
        "  line_dicts = [json.loads(line) for line in lines]\n",
        "  return pd.DataFrame(line_dicts)"
      ],
      "metadata": {
        "id": "MY2eOrwExRPS"
      },
      "execution_count": 3,
      "outputs": []
    },
    {
      "cell_type": "code",
      "execution_count": 4,
      "metadata": {
        "id": "aE1znpoV6m4_"
      },
      "outputs": [],
      "source": [
        "dataset_r1 = pack_to_df('anli_v1.0/R1/test.jsonl')"
      ]
    },
    {
      "cell_type": "code",
      "source": [
        "dataset_r2 = pack_to_df('anli_v1.0/R2/test.jsonl')"
      ],
      "metadata": {
        "id": "Zh6wKzST3Mln"
      },
      "execution_count": 5,
      "outputs": []
    },
    {
      "cell_type": "code",
      "source": [
        "dataset_r3 = pack_to_df('anli_v1.0/R3/test.jsonl')"
      ],
      "metadata": {
        "id": "WvWrNe7b3S_m"
      },
      "execution_count": 6,
      "outputs": []
    },
    {
      "cell_type": "code",
      "source": [
        "dataset_r1.loc[392, 'hypothesis'] = 'Kaspars Roga is a drummer.'"
      ],
      "metadata": {
        "id": "aBQGoDbdX3t4"
      },
      "execution_count": null,
      "outputs": []
    },
    {
      "cell_type": "code",
      "source": [
        "model = genai.GenerativeModel('gemini-1.0-pro-latest')"
      ],
      "metadata": {
        "id": "j9_t1zQrRMpZ"
      },
      "execution_count": null,
      "outputs": []
    },
    {
      "cell_type": "code",
      "source": [
        "def encode(r):\n",
        "    if r is None:\n",
        "      return 'none'\n",
        "    elif 'True' in r:\n",
        "      return 'e'\n",
        "    elif 'False' in r:\n",
        "      return 'c'\n",
        "    else:\n",
        "      return 'n'"
      ],
      "metadata": {
        "id": "eeHXVi31J4jl"
      },
      "execution_count": 7,
      "outputs": []
    },
    {
      "cell_type": "code",
      "source": [
        "def encode_and_count_accuracy(responses, ds):\n",
        "  responses_encoded = []\n",
        "  for r in responses:\n",
        "    if r is None:\n",
        "      responses_encoded.append('none')\n",
        "    elif 'True' in r:\n",
        "      responses_encoded.append('e')\n",
        "    elif 'False' in r:\n",
        "      responses_encoded.append('c')\n",
        "    else:\n",
        "      responses_encoded.append('n')\n",
        "  responses_encoded = np.array(responses_encoded)\n",
        "\n",
        "  print('Total accuracy: ', accuracy_score(ds.label, responses_encoded))\n",
        "\n",
        "  for v in ['e', 'c', 'n']:\n",
        "    idx = ds.index[ds['label'] == v].tolist()\n",
        "    print(f\"Label: {v} {accuracy_score(responses_encoded[idx], ds[ds['label'] == v].label)}\")"
      ],
      "metadata": {
        "id": "0isLJeMrHgUX"
      },
      "execution_count": 8,
      "outputs": []
    },
    {
      "cell_type": "code",
      "source": [
        "class BaseTest:\n",
        "\n",
        "  def __init__(self, fname, ds, pre_prompt = '', suf_prompt = ''):\n",
        "    self.responses = []\n",
        "    self.fname = fname\n",
        "    self.pre_prompt = pre_prompt\n",
        "    self.suf_prompt = suf_prompt\n",
        "    self.ds = ds\n",
        "\n",
        "  def get_responses(self):\n",
        "    with open(self.fname) as f:\n",
        "      r = f.read()\n",
        "      self.responses = r.split('₩')[:-1]\n",
        "    return self.responses\n",
        "\n",
        "  def prompting(self):\n",
        "    for index, row in tqdm(self.ds.iterrows()):\n",
        "      if index >= len(self.responses):\n",
        "        try:\n",
        "          self.responses.append(model.generate_content(self.pre_prompt + \\\n",
        "           f'{row.context}\\nQuestion: {row.hypothesis} True, False, or Neither?' \\\n",
        "                                                  + self.suf_prompt).text)\n",
        "          with open(self.fname, 'a') as f:\n",
        "            f.write(self.responses[-1] + \"₩\")\n",
        "\n",
        "        except:\n",
        "          self.responses.append(None)\n",
        "          print(row.context, row.hypothesis)\n",
        "    return self.responses"
      ],
      "metadata": {
        "id": "3y1JZNnJ0rwe"
      },
      "execution_count": 9,
      "outputs": []
    },
    {
      "cell_type": "markdown",
      "source": [
        "##ZeroShot"
      ],
      "metadata": {
        "id": "k58NneosITUj"
      }
    },
    {
      "cell_type": "code",
      "source": [
        "ZeroShotTest = BaseTest('zero_r1.txt', dataset_r1)"
      ],
      "metadata": {
        "id": "s4tFJ6884BkE"
      },
      "execution_count": null,
      "outputs": []
    },
    {
      "cell_type": "code",
      "source": [
        "responses = ZeroShotTest.prompting()"
      ],
      "metadata": {
        "id": "C35Pz0o745bN"
      },
      "execution_count": null,
      "outputs": []
    },
    {
      "cell_type": "code",
      "source": [
        "encode_and_count_accuracy(responses, dataset_r1)"
      ],
      "metadata": {
        "colab": {
          "base_uri": "https://localhost:8080/"
        },
        "id": "KykK8yHHIGrR",
        "outputId": "274fb80c-4cbc-4f9c-ab10-5e0464ba2f6d"
      },
      "execution_count": null,
      "outputs": [
        {
          "output_type": "stream",
          "name": "stdout",
          "text": [
            "Total accuracy:  0.668\n",
            "Label: e 0.6856287425149701\n",
            "Label: c 0.6186186186186187\n",
            "Label: n 0.6996996996996997\n"
          ]
        }
      ]
    },
    {
      "cell_type": "code",
      "source": [
        "ZeroShotTest = BaseTest('zero_r2.txt', dataset_r2)"
      ],
      "metadata": {
        "id": "i0ENBcMt3k4K"
      },
      "execution_count": null,
      "outputs": []
    },
    {
      "cell_type": "code",
      "source": [
        "responses = ZeroShotTest.prompting()"
      ],
      "metadata": {
        "id": "_HFJ_K7G3m1K"
      },
      "execution_count": null,
      "outputs": []
    },
    {
      "cell_type": "code",
      "source": [
        "encode_and_count_accuracy(responses, dataset_r2)"
      ],
      "metadata": {
        "colab": {
          "base_uri": "https://localhost:8080/"
        },
        "id": "WYQk8HJn3nhY",
        "outputId": "921fee49-9912-41f6-90d7-5369dd22aca1"
      },
      "execution_count": null,
      "outputs": [
        {
          "output_type": "stream",
          "name": "stdout",
          "text": [
            "Total accuracy:  0.56\n",
            "Label: e 0.5479041916167665\n",
            "Label: c 0.4594594594594595\n",
            "Label: n 0.6726726726726727\n"
          ]
        }
      ]
    },
    {
      "cell_type": "code",
      "source": [
        "ZeroShotTest = BaseTest('zero_r3.txt', dataset_r3)"
      ],
      "metadata": {
        "id": "W7U91mLuwnTS"
      },
      "execution_count": null,
      "outputs": []
    },
    {
      "cell_type": "code",
      "source": [
        "responses = ZeroShotTest.get_responses()"
      ],
      "metadata": {
        "id": "9SUei5Vz6dqc"
      },
      "execution_count": null,
      "outputs": []
    },
    {
      "cell_type": "code",
      "source": [
        "responses = ZeroShotTest.prompting()"
      ],
      "metadata": {
        "id": "w_zGG8oRwnx_"
      },
      "execution_count": null,
      "outputs": []
    },
    {
      "cell_type": "code",
      "source": [
        "encode_and_count_accuracy(responses, dataset_r3)"
      ],
      "metadata": {
        "id": "zjcW4gX5wp2E",
        "colab": {
          "base_uri": "https://localhost:8080/"
        },
        "outputId": "e908a2b6-a5c7-4008-cea3-a96f505a2ea2"
      },
      "execution_count": null,
      "outputs": [
        {
          "output_type": "stream",
          "name": "stdout",
          "text": [
            "Total accuracy:  0.5683333333333334\n",
            "Label: e 0.5945273631840796\n",
            "Label: c 0.42424242424242425\n",
            "Label: n 0.6840796019900498\n"
          ]
        }
      ]
    },
    {
      "cell_type": "markdown",
      "source": [
        "##ZeroShot CoT"
      ],
      "metadata": {
        "id": "eeS13WFAIa6h"
      }
    },
    {
      "cell_type": "code",
      "source": [
        "ZShCoTTest = BaseTest('zero_cot_r1.txt', dataset_r1, '', \"\\n Answer: Let's think step by step.\")"
      ],
      "metadata": {
        "id": "rWq-d9gyIe4F"
      },
      "execution_count": null,
      "outputs": []
    },
    {
      "cell_type": "code",
      "source": [
        "responses = ZShCoTTest.get_responses()"
      ],
      "metadata": {
        "id": "C1164vdMNOya"
      },
      "execution_count": null,
      "outputs": []
    },
    {
      "cell_type": "code",
      "source": [
        "responses = ZShCoTTest.prompting()"
      ],
      "metadata": {
        "id": "_JPDvkUD6-u4"
      },
      "execution_count": null,
      "outputs": []
    },
    {
      "cell_type": "code",
      "source": [
        "encode_and_count_accuracy(responses, dataset_r1)"
      ],
      "metadata": {
        "colab": {
          "base_uri": "https://localhost:8080/"
        },
        "id": "VKpJrzqcK2fb",
        "outputId": "8292552c-2538-4df4-85af-2ca161604ada"
      },
      "execution_count": null,
      "outputs": [
        {
          "output_type": "stream",
          "name": "stdout",
          "text": [
            "Total accuracy:  0.673\n",
            "Label: e 0.7395209580838323\n",
            "Label: c 0.6606606606606606\n",
            "Label: n 0.6186186186186187\n"
          ]
        }
      ]
    },
    {
      "cell_type": "code",
      "source": [
        "ZShCoTTest = BaseTest('zero_cot_r2.txt', dataset_r2, '', \"\\n Answer: Let's think step by step.\")"
      ],
      "metadata": {
        "id": "Hf9JKsuq-HnQ"
      },
      "execution_count": null,
      "outputs": []
    },
    {
      "cell_type": "code",
      "source": [
        "responses = ZShCoTTest.get_responses()"
      ],
      "metadata": {
        "id": "3rRvKPWR6vtq"
      },
      "execution_count": null,
      "outputs": []
    },
    {
      "cell_type": "code",
      "source": [
        "responses = ZShCoTTest.prompting()"
      ],
      "metadata": {
        "id": "VrEpv7r6-JEu"
      },
      "execution_count": null,
      "outputs": []
    },
    {
      "cell_type": "code",
      "source": [
        "encode_and_count_accuracy(responses, dataset_r2)"
      ],
      "metadata": {
        "colab": {
          "base_uri": "https://localhost:8080/"
        },
        "id": "MaPKi2Cw-MQh",
        "outputId": "38d5515d-11af-4833-c2b9-9aba22f42c73"
      },
      "execution_count": null,
      "outputs": [
        {
          "output_type": "stream",
          "name": "stdout",
          "text": [
            "Total accuracy:  0.428\n",
            "Label: e 0.40718562874251496\n",
            "Label: c 0.4624624624624625\n",
            "Label: n 0.4144144144144144\n"
          ]
        }
      ]
    },
    {
      "cell_type": "code",
      "source": [
        "ZShCoTTest = BaseTest('zero_cot_r3.txt', dataset_r3, '', \"\\n Answer: Let's think step by step.\")"
      ],
      "metadata": {
        "id": "U-Xw8UgvEPQO"
      },
      "execution_count": null,
      "outputs": []
    },
    {
      "cell_type": "code",
      "source": [
        "responses = ZShCoTTest.get_responses()"
      ],
      "metadata": {
        "id": "Gg46IbslK3GN"
      },
      "execution_count": null,
      "outputs": []
    },
    {
      "cell_type": "code",
      "source": [
        "responses = ZShCoTTest.prompting()"
      ],
      "metadata": {
        "id": "p9Q1EbyFEUSN"
      },
      "execution_count": null,
      "outputs": []
    },
    {
      "cell_type": "code",
      "source": [
        "encode_and_count_accuracy(responses, dataset_r3)"
      ],
      "metadata": {
        "colab": {
          "base_uri": "https://localhost:8080/"
        },
        "id": "eJHr9kEYEemh",
        "outputId": "091aa8ea-2483-44d8-b58b-c028424f2444"
      },
      "execution_count": null,
      "outputs": [
        {
          "output_type": "stream",
          "name": "stdout",
          "text": [
            "Total accuracy:  0.5625\n",
            "Label: e 0.664179104477612\n",
            "Label: c 0.49747474747474746\n",
            "Label: n 0.5248756218905473\n"
          ]
        }
      ]
    },
    {
      "cell_type": "markdown",
      "source": [
        "##OneShot CoT"
      ],
      "metadata": {
        "id": "m2qi6fr67J50"
      }
    },
    {
      "cell_type": "code",
      "source": [
        "OneShCoTTest = BaseTest('one_cot_r1.txt', dataset_r1, \"The Parma trolleybus system forms part of the public transport network of the city and \\\"comune\\\" of Parma, in the region of Emilia-Romagna, northern Italy. In operation since 1953, the system presently comprises four urban routes. Question: The trolleybus system has over 2 urban routes. True, False or Neither?\\n Answer: Let's think step by step. The system presently comprises four urban routes, since four is more than 2 the correct answer is True.\", \"\\n Answer: Let's think step by step.\")"
      ],
      "metadata": {
        "id": "x7LdAaXg7MmI"
      },
      "execution_count": null,
      "outputs": []
    },
    {
      "cell_type": "code",
      "source": [
        "responses = OneShCoTTest.prompting()"
      ],
      "metadata": {
        "id": "8ExZcVcs7QGz"
      },
      "execution_count": null,
      "outputs": []
    },
    {
      "cell_type": "code",
      "source": [
        "encode_and_count_accuracy(responses, dataset_r1)"
      ],
      "metadata": {
        "colab": {
          "base_uri": "https://localhost:8080/"
        },
        "id": "kYflqja77Rrk",
        "outputId": "9cd7976f-5f7f-4975-b1dc-5f90570eef65"
      },
      "execution_count": null,
      "outputs": [
        {
          "output_type": "stream",
          "name": "stdout",
          "text": [
            "Total accuracy:  0.661\n",
            "Label: e 0.7574850299401198\n",
            "Label: c 0.6576576576576577\n",
            "Label: n 0.5675675675675675\n"
          ]
        }
      ]
    },
    {
      "cell_type": "code",
      "source": [
        "OneShCoTTest = BaseTest('one_cot_r2.txt', dataset_r2, \"The Parma trolleybus system forms part of the public transport network of the city and \\\"comune\\\" of Parma, in the region of Emilia-Romagna, northern Italy. In operation since 1953, the system presently comprises four urban routes. Question: The trolleybus system has over 2 urban routes. True, False or Neither?\\n Answer: Let's think step by step. The system presently comprises four urban routes, since four is more than 2 the correct answer is True.\", \"\\n Answer: Let's think step by step.\")"
      ],
      "metadata": {
        "id": "jIUlBJ2ahTFv"
      },
      "execution_count": null,
      "outputs": []
    },
    {
      "cell_type": "code",
      "source": [
        "responses = OneShCoTTest.get_responses()"
      ],
      "metadata": {
        "id": "nUSDL2L2oE-9"
      },
      "execution_count": null,
      "outputs": []
    },
    {
      "cell_type": "code",
      "source": [
        "responses = OneShCoTTest.prompting()"
      ],
      "metadata": {
        "id": "pvgl3WIPhXu_"
      },
      "execution_count": null,
      "outputs": []
    },
    {
      "cell_type": "code",
      "source": [
        "encode_and_count_accuracy(responses, dataset_r2)"
      ],
      "metadata": {
        "colab": {
          "base_uri": "https://localhost:8080/"
        },
        "id": "LHI4izKBhYRn",
        "outputId": "1add3840-40dd-4010-8bf0-f9c6f60a064d"
      },
      "execution_count": null,
      "outputs": [
        {
          "output_type": "stream",
          "name": "stdout",
          "text": [
            "Total accuracy:  0.434\n",
            "Label: e 0.49101796407185627\n",
            "Label: c 0.4264264264264264\n",
            "Label: n 0.3843843843843844\n"
          ]
        }
      ]
    },
    {
      "cell_type": "code",
      "source": [
        "OneShCoTTest = BaseTest('one_cot_r3.txt', dataset_r3, \"The Parma trolleybus system forms part of the public transport network of the city and \\\"comune\\\" of Parma, in the region of Emilia-Romagna, northern Italy. In operation since 1953, the system presently comprises four urban routes. Question: The trolleybus system has over 2 urban routes. True, False or Neither?\\n Answer: Let's think step by step. The system presently comprises four urban routes, since four is more than 2 the correct answer is True.\", \"\\n Answer: Let's think step by step.\")"
      ],
      "metadata": {
        "id": "CoyQ2WggSTeh"
      },
      "execution_count": null,
      "outputs": []
    },
    {
      "cell_type": "code",
      "source": [
        "responses = OneShCoTTest.get_responses()"
      ],
      "metadata": {
        "id": "zuxPBe5GXlqu"
      },
      "execution_count": null,
      "outputs": []
    },
    {
      "cell_type": "code",
      "source": [
        "responses = OneShCoTTest.prompting()"
      ],
      "metadata": {
        "id": "qSQl6YZoSVH7"
      },
      "execution_count": null,
      "outputs": []
    },
    {
      "cell_type": "code",
      "source": [
        "encode_and_count_accuracy(responses, dataset_r3)"
      ],
      "metadata": {
        "colab": {
          "base_uri": "https://localhost:8080/"
        },
        "id": "KT1TXU15fI81",
        "outputId": "4a7202de-68a5-405a-a26f-640bb957d482"
      },
      "execution_count": null,
      "outputs": [
        {
          "output_type": "stream",
          "name": "stdout",
          "text": [
            "Total accuracy:  0.5391666666666667\n",
            "Label: e 0.6268656716417911\n",
            "Label: c 0.4823232323232323\n",
            "Label: n 0.5074626865671642\n"
          ]
        }
      ]
    },
    {
      "cell_type": "markdown",
      "source": [
        "##Reductio Ad Absurdum"
      ],
      "metadata": {
        "id": "Vpc1tTxPbPRB"
      }
    },
    {
      "cell_type": "code",
      "source": [
        "ZeroRAATest = BaseTest('zero_raa_r1.txt', dataset_r1, \"\", \"First try to negate the hypothesis and see whether it contradicts the context.\")"
      ],
      "metadata": {
        "id": "uAEnRNK1apZo"
      },
      "execution_count": null,
      "outputs": []
    },
    {
      "cell_type": "code",
      "source": [
        "responses = ZeroRAATest.get_responses()"
      ],
      "metadata": {
        "id": "c-rzCMcoxvYb"
      },
      "execution_count": null,
      "outputs": []
    },
    {
      "cell_type": "code",
      "source": [
        "responses = ZeroRAATest.prompting()"
      ],
      "metadata": {
        "id": "CE4CFoEcawEB"
      },
      "execution_count": null,
      "outputs": []
    },
    {
      "cell_type": "code",
      "source": [
        "encode_and_count_accuracy(responses, dataset_r1)"
      ],
      "metadata": {
        "colab": {
          "base_uri": "https://localhost:8080/"
        },
        "id": "_2-vHLnWaxbe",
        "outputId": "fb602b20-fb5d-43c0-d6eb-82632aa92ff7"
      },
      "execution_count": null,
      "outputs": [
        {
          "output_type": "stream",
          "name": "stdout",
          "text": [
            "Total accuracy:  0.509\n",
            "Label: e 0.5149700598802395\n",
            "Label: c 0.5225225225225225\n",
            "Label: n 0.4894894894894895\n"
          ]
        }
      ]
    },
    {
      "cell_type": "code",
      "source": [
        "ZeroRAATest = BaseTest('zero_raa_r2.txt', dataset_r2, \"\", \"First try to negate the hypothesis and see whether it contradicts the context.\")"
      ],
      "metadata": {
        "id": "FpiAw6AgFqRr"
      },
      "execution_count": null,
      "outputs": []
    },
    {
      "cell_type": "code",
      "source": [
        "responses = ZeroRAATest.get_responses()"
      ],
      "metadata": {
        "id": "Y4-2A05LMRDk"
      },
      "execution_count": null,
      "outputs": []
    },
    {
      "cell_type": "code",
      "source": [
        "responses = ZeroRAATest.prompting()"
      ],
      "metadata": {
        "colab": {
          "base_uri": "https://localhost:8080/",
          "height": 34
        },
        "id": "XLOaEkQuFny6",
        "outputId": "17f1a4ff-12fe-4f88-b380-10e726ebdc5d"
      },
      "execution_count": null,
      "outputs": [
        {
          "output_type": "stream",
          "name": "stderr",
          "text": [
            "1000it [00:55, 18.18it/s]\n"
          ]
        }
      ]
    },
    {
      "cell_type": "code",
      "source": [
        "encode_and_count_accuracy(responses, dataset_r2)"
      ],
      "metadata": {
        "id": "CX5o1UdWFoIR",
        "colab": {
          "base_uri": "https://localhost:8080/"
        },
        "outputId": "99f6205c-4a4a-4012-95a6-14d4bbf92cc3"
      },
      "execution_count": null,
      "outputs": [
        {
          "output_type": "stream",
          "name": "stdout",
          "text": [
            "Total accuracy:  0.439\n",
            "Label: e 0.4041916167664671\n",
            "Label: c 0.45645645645645644\n",
            "Label: n 0.45645645645645644\n"
          ]
        }
      ]
    },
    {
      "cell_type": "code",
      "source": [
        "ZeroRAATest = BaseTest('zero_raa_r3.txt', dataset_r3, \"\", \"First try to negate the hypothesis and see whether it contradicts the context.\")"
      ],
      "metadata": {
        "id": "3CzhCwJ-Pyui"
      },
      "execution_count": null,
      "outputs": []
    },
    {
      "cell_type": "code",
      "source": [
        "responses = ZeroRAATest.prompting()"
      ],
      "metadata": {
        "id": "ZLFfRG3MP0R9"
      },
      "execution_count": null,
      "outputs": []
    },
    {
      "cell_type": "code",
      "source": [
        "encode_and_count_accuracy(responses, dataset_r3)"
      ],
      "metadata": {
        "id": "h2bZTT0nP2AJ",
        "colab": {
          "base_uri": "https://localhost:8080/"
        },
        "outputId": "6189f4b3-522b-49ac-d355-0873d2050fc0"
      },
      "execution_count": null,
      "outputs": [
        {
          "output_type": "stream",
          "name": "stdout",
          "text": [
            "Total accuracy:  0.5608333333333333\n",
            "Label: e 0.6094527363184079\n",
            "Label: c 0.5151515151515151\n",
            "Label: n 0.5572139303482587\n"
          ]
        }
      ]
    },
    {
      "cell_type": "markdown",
      "source": [
        "#Ensemble"
      ],
      "metadata": {
        "id": "8iZZokRsIEJZ"
      }
    },
    {
      "cell_type": "code",
      "source": [
        "l = []\n",
        "for method in ['zero_r1.txt', 'zero_cot_r1.txt', 'one_cot_r1.txt', 'zero_raa_r1.txt']:\n",
        "  test = BaseTest(method, dataset_r1)\n",
        "  responses = test.get_responses()\n",
        "  l.append(responses)\n",
        "df = pd.DataFrame(l).T\n",
        "df = df.applymap(encode)\n",
        "accuracy_score(df.mode(axis=1).iloc[:, 0].values, dataset_r1.label)"
      ],
      "metadata": {
        "colab": {
          "base_uri": "https://localhost:8080/"
        },
        "id": "-a5E0aLJjHB3",
        "outputId": "3253250c-9029-41de-a5b8-af2b2c10c59c"
      },
      "execution_count": 41,
      "outputs": [
        {
          "output_type": "execute_result",
          "data": {
            "text/plain": [
              "0.556"
            ]
          },
          "metadata": {},
          "execution_count": 41
        }
      ]
    },
    {
      "cell_type": "code",
      "source": [
        "for i in range(4):\n",
        "  mask = df.iloc[:, i] != dataset_r1.label\n",
        "  print(accuracy_score(df.iloc[:, i][mask], dataset_r1.model_label[mask]))"
      ],
      "metadata": {
        "colab": {
          "base_uri": "https://localhost:8080/"
        },
        "id": "SMRU7fztz0E3",
        "outputId": "7cba0529-0597-47d9-9ee9-d53106e32a80"
      },
      "execution_count": 44,
      "outputs": [
        {
          "output_type": "stream",
          "name": "stdout",
          "text": [
            "0.6144578313253012\n",
            "0.5034965034965035\n",
            "0.5085536547433903\n",
            "0.5223613595706619\n"
          ]
        }
      ]
    },
    {
      "cell_type": "code",
      "source": [
        "l = []\n",
        "for method in ['zero_r2.txt', 'zero_cot_r2.txt', 'one_cot_r2.txt', 'zero_raa_r2.txt']:\n",
        "  test = BaseTest(method, dataset_r2)\n",
        "  responses = test.get_responses()\n",
        "  l.append(responses)\n",
        "df = pd.DataFrame(l).T\n",
        "df = df.applymap(encode)\n",
        "accuracy_score(df.mode(axis=1).iloc[:, 0].values, dataset_r2.label)"
      ],
      "metadata": {
        "colab": {
          "base_uri": "https://localhost:8080/"
        },
        "id": "7Jn4cMDTNFc4",
        "outputId": "02edcfb0-e735-46e7-83a4-38cc60cc76b7"
      },
      "execution_count": 46,
      "outputs": [
        {
          "output_type": "execute_result",
          "data": {
            "text/plain": [
              "0.44"
            ]
          },
          "metadata": {},
          "execution_count": 46
        }
      ]
    },
    {
      "cell_type": "code",
      "source": [
        "for i in range(4):\n",
        "  mask = df.iloc[:, i] != dataset_r2.label\n",
        "  print(accuracy_score(df.iloc[:, i][mask], dataset_r2.model_label[mask]))"
      ],
      "metadata": {
        "colab": {
          "base_uri": "https://localhost:8080/"
        },
        "id": "mVx0yffZ1X5O",
        "outputId": "bce69f91-7975-41f1-fb8d-61910dedd007"
      },
      "execution_count": 47,
      "outputs": [
        {
          "output_type": "stream",
          "name": "stdout",
          "text": [
            "0.6641074856046065\n",
            "0.5117056856187291\n",
            "0.5177419354838709\n",
            "0.5151515151515151\n"
          ]
        }
      ]
    },
    {
      "cell_type": "code",
      "source": [
        "l = []\n",
        "for method in ['zero_r3.txt', 'zero_cot_r3.txt', 'one_cot_r3.txt', 'zero_raa_r3.txt']:\n",
        "  test = BaseTest(method, dataset_r3)\n",
        "  responses = test.get_responses()\n",
        "  l.append(responses)\n",
        "df = pd.DataFrame(l).T\n",
        "df = df.applymap(encode)\n",
        "accuracy_score(df.mode(axis=1).iloc[:, 0].values, dataset_r3.label)"
      ],
      "metadata": {
        "colab": {
          "base_uri": "https://localhost:8080/"
        },
        "id": "RmFTjVcdNF5s",
        "outputId": "4595015c-7d40-4813-a553-8dcee31626de"
      },
      "execution_count": 19,
      "outputs": [
        {
          "output_type": "execute_result",
          "data": {
            "text/plain": [
              "0.5436241610738255"
            ]
          },
          "metadata": {},
          "execution_count": 19
        }
      ]
    },
    {
      "cell_type": "code",
      "source": [
        "for i in range(4):\n",
        "  mask = df.iloc[:, i] != dataset_r3.label\n",
        "  print(accuracy_score(df.iloc[:, i][mask], dataset_r3.model_label[mask]))"
      ],
      "metadata": {
        "colab": {
          "base_uri": "https://localhost:8080/"
        },
        "id": "IiYciTbdQSVL",
        "outputId": "34eab3cc-ccee-4329-c4bf-0d35c5ac08fd"
      },
      "execution_count": 1,
      "outputs": [
        {
          "output_type": "stream",
          "name": "stdout",
          "text": [
            "0.6323766233766234\n",
            "0.600358422939068\n",
            "0.5392156862745098\n",
            "0.5330578512396694\n"
          ]
        }
      ]
    }
  ]
}